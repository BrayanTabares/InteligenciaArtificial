{
 "cells": [
  {
   "cell_type": "markdown",
   "metadata": {},
   "source": [
    "# Sistema de recomendación de anime"
   ]
  },
  {
   "cell_type": "code",
   "execution_count": null,
   "metadata": {},
   "outputs": [],
   "source": [
    "import numpy as np\n",
    "from matplotlib import pyplot as plt\n",
    "import pandas as pd \n",
    "from sklearn.neighbors import NearestNeighbors\n",
    "\n",
    "#Barra de progreso\n",
    "import time\n",
    "from tqdm import tqdm"
   ]
  },
  {
   "cell_type": "markdown",
   "metadata": {},
   "source": [
    "El objetivo es aplicar todo lo que hemos aprendido hasta el momento, especialmente sobre gradiente descendiente. Para esto desarrollaremos un sistema de recomendación usando factorización de matrices.\n",
    "\n",
    "En esta entrega se darán todos elementos necesarios para desarrollar un sistema de recomendación de amines, el objetivo es que usted entienda como funciona y desarrolle una solución.\n",
    "\n",
    "Si desea conocer mas sobre el dataset que usaremos puede revisar acá: https://www.kaggle.com/CooperUnion/anime-recommendations-database"
   ]
  },
  {
   "cell_type": "markdown",
   "metadata": {},
   "source": [
    "1- Cargue las bases de datos de calificaciones, usuarios y animes. Puede usar para este objetivo la biblioteca pandas. Genere el conjunto de entrenamiento usando los usuarios cómo filas y los animes cómo columnas. Tenga en cuenta que para el algoritmo es necesario que los -1 sean cero, sin embargo, para la recomendación si debe tener en cuenta dichos valores."
   ]
  },
  {
   "cell_type": "code",
   "execution_count": null,
   "metadata": {
    "scrolled": true
   },
   "outputs": [],
   "source": [
    "#Obtener Listado .CSV\n",
    "def cargarAnimes():\n",
    "    df = pd.read_csv('anime.csv', delimiter=',', parse_dates=[6], header=0,index_col=False, squeeze=False)\n",
    "    return np.array(df)\n",
    "\n",
    "#Números globales cantidad animes y usuarios\n",
    "cantAnimes=12294\n",
    "cantUsers=73516\n",
    "\n",
    "#Crear R a partir del archivo csv\n",
    "def crearR():\n",
    "    uf = pd.read_csv('rating.csv', delimiter=',', parse_dates=[2], header=0,index_col=False, squeeze=False)\n",
    "    u=np.array(uf)\n",
    "    \n",
    "    #Crear R\n",
    "\n",
    "    R = np.zeros((cantUsers,cantAnimes), dtype = np.int8)\n",
    "    for i in u:\n",
    "        if i[1] <= cantAnimes:\n",
    "            R[i[0]-1,i[1]-1] = int(i[2])\n",
    "      \n",
    "    return R \n"
   ]
  },
  {
   "cell_type": "markdown",
   "metadata": {},
   "source": [
    "2- Agregue la función donde se ejecuta el algoritmo de factorización de matrices. Puede basarse en el algoritmo compartido en las dispositivas. No debe de gastar todas las iteraciones. "
   ]
  },
  {
   "cell_type": "code",
   "execution_count": null,
   "metadata": {},
   "outputs": [],
   "source": [
    "def matrix_factorization(R, P, Q, K, steps=100, alpha=0.0002, beta=0.02):\n",
    "    Q = Q.T\n",
    "    for step in tqdm(range(steps)):\n",
    "        for i in range(len(R)):\n",
    "            for j in range(len(R[i])):\n",
    "                if R[i][j] > 0:\n",
    "                    eij = R[i][j] - np.dot(P[i,:],Q[:,j])\n",
    "                    for k in range(K):\n",
    "                        P[i][k] = P[i][k] + alpha * (2 * eij * Q[k][j] - beta * P[i][k])\n",
    "                        Q[k][j] = Q[k][j] + alpha * (2 * eij * P[i][k] - beta * Q[k][j])\n",
    "        eR = np.dot(P,Q)\n",
    "        e = 0\n",
    "        for i in range(len(R)):\n",
    "            for j in range(len(R[i])):\n",
    "                if R[i][j] > 0:\n",
    "                    e = e + pow(R[i][j] - np.dot(P[i,:],Q[:,j]), 2)\n",
    "                    for k in range(K):\n",
    "                        e = e + (beta/2) * (pow(P[i][k],2) + pow(Q[k][j],2))\n",
    "        if e < 0.9:\n",
    "            break\n",
    "    return P, Q.T"
   ]
  },
  {
   "cell_type": "markdown",
   "metadata": {},
   "source": [
    "3- Programe una función para generar $\\hat{R}$. Recuerde que para generar $\\hat{R}$ debe realizar los siguiente pasos:\n",
    "\n",
    "    - Generar R usando el algoritmo de vecinos más cercanos.\n",
    "    - Defina K.\n",
    "    - Defina P y Q.\n",
    "    - Generar R prima.\n"
   ]
  },
  {
   "cell_type": "code",
   "execution_count": null,
   "metadata": {
    "scrolled": true
   },
   "outputs": [],
   "source": [
    "def generateRandomPQ(k):\n",
    "    Q = np.random.randint(1, 10, (cantAnimes, k))\n",
    "    P = np.random.randint(1, 10, (cantUsers, k))\n",
    "    return P,Q\n",
    "\n",
    "def generateR(usuario, vecinos):\n",
    "    R = crearR()\n",
    "    RSelected = np.empty([vecinos,cantAnimes])\n",
    "    distances,indices=knn(True,usuario,vecinos,R)\n",
    "    print(distances,indices)\n",
    "    for i in range(0, len(indices[0])-1, 1):\n",
    "        RSelected[i] = R[indices[0,i]]\n",
    "    del R\n",
    "    return np.where(RSelected == -1, 0, RSelected)\n",
    "\n",
    "def knn(cargar,usuario,vecinos,R):\n",
    "    if not(cargar):\n",
    "        nbrs = NearestNeighbors(n_neighbors=vecinos, algorithm='auto', n_jobs=-1).fit(R)\n",
    "        distances, indices = nbrs.kneighbors(R[usuario-1].reshape((1, -1)))\n",
    "        return distances,indices\n",
    "    else:\n",
    "        if vecinos>30:\n",
    "            vecinos=30\n",
    "        if usuario in [51,510,17000,27005,37502,57502,67501]:\n",
    "            distances=np.loadtxt('distances'+str(usuario)+'.txt')\n",
    "            indices=np.loadtxt('indices'+str(usuario)+'.txt')\n",
    "            return distances[:vecinos].reshape(1,vecinos),indices[:vecinos].reshape(1,vecinos).astype(int)\n",
    "        else:\n",
    "            distances=np.loadtxt('distances.txt')\n",
    "            indices=np.loadtxt('indices.txt')\n",
    "            return distances.reshape(1,vecinos),indices.reshape(1,vecinos).astype(int)\n",
    "        \n",
    "def optimizarMatriz(R,indices,distances):\n",
    "    userIguales=np.array([]).reshape(0,2)\n",
    "    cont=0\n",
    "    pos=-1\n",
    "    Raux=np.zeros((len(R),len(R[0])),dtype=np.int8)\n",
    "    for i in tqdm(range(len(indices))):\n",
    "        for j in range(len(indices[0])):\n",
    "            if int(distances[i,j]) == 0:\n",
    "                index=int(indices[i,j])\n",
    "                aux1=np.where(userIguales[:,1]==i)\n",
    "                if i != index:\n",
    "                    aux2=np.where(userIguales[:,1]==index)\n",
    "                    if len(aux1[0]) == 0:\n",
    "                        if len(aux2[0]) == 0:\n",
    "                            pos=pos+1\n",
    "                            userIguales=np.insert(userIguales, userIguales.shape[0], np.array([pos,i]), 0)\n",
    "                            userIguales=np.insert(userIguales, userIguales.shape[0], np.array([pos,index]), 0)\n",
    "                            Raux[cont]=R[i]\n",
    "                            cont=cont+1\n",
    "                        else:\n",
    "                            userIguales=np.insert(userIguales,aux2[0][-1]+1, np.array([userIguales[aux2[0][-1],0],i]), 0)\n",
    "                    else:\n",
    "                        if len(aux2[0]) == 0:\n",
    "                            userIguales=np.insert(userIguales,aux1[0][-1]+1, np.array([userIguales[aux1[0][-1],0],index]), 0)                  \n",
    "                else:\n",
    "                    if len(aux1[0]) == 0:\n",
    "                        pos=pos+1\n",
    "                        userIguales=np.insert(userIguales, userIguales.shape[0], np.array([pos,i]), 0)\n",
    "                        Raux[cont]=R[i]\n",
    "                        cont=cont+1\n",
    "    return Raux[:cont,:], userIguales\n",
    "\n",
    "def generateRPrime(k, usuario, vecinos):\n",
    "    P,Q = generateRandomPQ(k)\n",
    "    RSelected = generateR(usuario, vecinos)\n",
    "    P,Q = matrix_factorization(RSelected, P, Q, k)\n",
    "    return RSelected, np.dot(P, Q.T)"
   ]
  },
  {
   "cell_type": "markdown",
   "metadata": {},
   "source": [
    "4- Realice las siguiente recomendaciones (animes que no ha visto con calificación 10):\n",
    "\n",
    "    1- Usuario de id 51, películas.\n",
    "    2- Usuario de id 510, animes con menos de 31 episodios.\n",
    "    3- Usuario de id 17000, animes con rankins mayores o iguales a 9.\n",
    "    4- Usuario de id 27005, animes de comedia y aventura.\n",
    "    5- Usuario de id 37502, TV.\n",
    "    6- Usuario de id 57502, películas y OVAS.\n",
    "    7- Usuario de id 67501.\n",
    "\n",
    "Cada recomendación debe tener como respuesta, número de iteraciones, número de recomendaciones y nombre de los animes,"
   ]
  },
  {
   "cell_type": "code",
   "execution_count": null,
   "metadata": {},
   "outputs": [],
   "source": [
    "def recomendar(RpSelected,RSelected,d,minRating,idUser,genre,tipo,episodios,ranking,members):  \n",
    "    recomendacion=np.array([]).reshape(0,len(d[0]))  \n",
    "    for i in tqdm(range(len(d))):\n",
    "        if RpSelected[i]>=recomRating and RSelected[i]!=-1:\n",
    "            boolean=True\n",
    "            if genre!=None and not(genre in d[i,2]):\n",
    "                boolean=False\n",
    "            if boolean and tipo!=None and not(tipo == d[i,3]):\n",
    "                boolean=False  \n",
    "            if boolean and episodios!=None and not(episodios >= d[i,4]):\n",
    "                boolean=False\n",
    "            if boolean and rating!=None and not(ranking <= d[i,5]):\n",
    "                boolean=False  \n",
    "            if boolean and members!=None and not(members <= d[i,5]):\n",
    "                boolean=False \n",
    "            if boolean:\n",
    "                recomendacion=np.insert(recomendacion, recomendacion.shape[0], d[i], 0)                \n",
    "    return recomendacion\n",
    "\n",
    "#PRUEBA DE PREDICCIÓN\n",
    "Rl, Rp = generateRPrime(2, 510, 30)\n",
    "print(Rl[0,19])\n",
    "print(\"-----------------\")\n",
    "print(Rp[0,19])"
   ]
  },
  {
   "cell_type": "code",
   "execution_count": null,
   "metadata": {
    "scrolled": false
   },
   "outputs": [],
   "source": [
    "print(Rl)\n",
    "print(Rp)\n"
   ]
  },
  {
   "cell_type": "code",
   "execution_count": null,
   "metadata": {},
   "outputs": [],
   "source": [
    "np.savetxt('Rp510FIRST.txt',Rp[0,:])"
   ]
  },
  {
   "cell_type": "code",
   "execution_count": null,
   "metadata": {},
   "outputs": [],
   "source": []
  }
 ],
 "metadata": {
  "kernelspec": {
   "display_name": "Python 3",
   "language": "python",
   "name": "python3"
  },
  "language_info": {
   "codemirror_mode": {
    "name": "ipython",
    "version": 3
   },
   "file_extension": ".py",
   "mimetype": "text/x-python",
   "name": "python",
   "nbconvert_exporter": "python",
   "pygments_lexer": "ipython3",
   "version": "3.8.3"
  }
 },
 "nbformat": 4,
 "nbformat_minor": 2
}
