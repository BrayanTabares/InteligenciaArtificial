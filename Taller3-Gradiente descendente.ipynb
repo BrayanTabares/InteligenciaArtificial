{
 "cells": [
  {
   "cell_type": "markdown",
   "metadata": {},
   "source": [
    "# Taller gradiente descendente"
   ]
  },
  {
   "cell_type": "markdown",
   "metadata": {},
   "source": [
    "## Nombre Michelle Y Brayan"
   ]
  },
  {
   "cell_type": "code",
   "execution_count": 1,
   "metadata": {},
   "outputs": [],
   "source": [
    "# dependecias para todo el taller. No se deben agregar más dependecias\n",
    "import numpy as np\n",
    "from matplotlib import pyplot as plt"
   ]
  },
  {
   "cell_type": "markdown",
   "metadata": {},
   "source": [
    "Carga de datos base:"
   ]
  },
  {
   "cell_type": "code",
   "execution_count": 3,
   "metadata": {},
   "outputs": [],
   "source": [
    "tam = 300\n",
    "x = np.linspace(0,5,tam)\n",
    "t = np.sin(2*np.pi*x)+np.random.normal(0,0.4,tam)"
   ]
  },
  {
   "cell_type": "markdown",
   "metadata": {},
   "source": [
    "1- Muestre la señal $t$ en un gráfico."
   ]
  },
  {
   "cell_type": "code",
   "execution_count": null,
   "metadata": {},
   "outputs": [],
   "source": [
    "plt.plot(t)\n",
    "plt.show()\n",
    "plt.ion()"
   ]
  },
  {
   "cell_type": "markdown",
   "metadata": {},
   "source": [
    "2- Usando mínimos cuadrados desarrolle para cada una de las tres de funciones base una solución que se ajuste a la señal mostrada en el punto anterior. Defina los valores de m y s en cada uno de los tres casos. Realice un gráfico comparativo para cada $\\hat{t}$ vs t, y uno final de todas las $\\hat{t}$s vs t. Muestré los errores de cada $\\hat{t}$. Use subplot. ¿Que puede intepretar de los resultados? (1.2)"
   ]
  },
  {
   "cell_type": "code",
   "execution_count": null,
   "metadata": {},
   "outputs": [],
   "source": [
    "def GenerarPhi(m,f,t):\n",
    "    s1=0.007\n",
    "    s2=0.01\n",
    "    u=np.linspace(0,1,m)\n",
    "    t0=np.arange(0,len(t),1)\n",
    "    phi=t0.reshape(len(t0),1)\n",
    "    phi2=np.linspace(0,1,len(t))\n",
    "    phiPolinomial = np.empty([len(t),m],dtype=np.float64)\n",
    "    phiExponencial = np.empty([len(t),m-1],dtype=np.float64)\n",
    "    phiSigmoidal = np.empty([len(t),m-1],dtype=np.float64)\n",
    "    for i in range(len(phi)): \n",
    "        for j in range(m):\n",
    "                if f=='a' or f =='p':\n",
    "                    phiPolinomial[i,j]=phi[i,0]**j\n",
    "                if (f=='a' or f =='e')and j!=m-1:\n",
    "                    phiExponencial[i,j]=math.exp(-(((phi2[i]-u[j])**2)/(2*s1**2)))\n",
    "                if (f=='a' or f =='s')and j!=m-1:\n",
    "                    a=(phi2[i]-u[j])/s2\n",
    "                    phiSigmoidal[i,j]=1/(1+math.exp(-a))\n",
    "    o=np.ones((len(t),1))\n",
    "    phiExponencial=np.concatenate((o,phiExponencial),axis=1)\n",
    "    phiSigmoidal=np.concatenate((o,phiSigmoidal),axis=1)\n",
    "    if f=='p':\n",
    "        return phiPolinomial\n",
    "    elif f=='e':\n",
    "        return phiExponencial\n",
    "    elif f=='s':\n",
    "        return phiSigmoidal\n",
    "    \n",
    "    return phiPolinomial,phiExponencial,phiSigmoidal\n",
    "\n",
    "def CalcularW(phi):\n",
    "    t0=np.array(t)\n",
    "    t1=t0.reshape(len(t0),1)\n",
    "    return np.linalg.inv(phi.T@phi)@phi.T@t1\n",
    "\n",
    "def errorCuadraticoMedio(phi,w):\n",
    "    t0=np.array(t)\n",
    "    t1=t0.reshape(len(t0),1)\n",
    "    return np.mean(((phi@w)-t1)**2)\n"
   ]
  },
  {
   "cell_type": "markdown",
   "metadata": {},
   "source": [
    "3- Ahora programe una función para generar $w$ y $\\hat{t}$ usando el algoritmo de gradiente descendente. Defina el caso de parada usando un error esperado y cantidad máxima de iteraciones (debe manejar ambos casos). Recuerde que la ecuación para calcular $w$ esta dada por:\n",
    "\n",
    "$w_{j} = w_{j} - \\alpha \\Delta$\n",
    "\n",
    "Retorne $w$, $\\hat{t}$, el número de iteraciones y el error obtenido. (1.2). Una solución ideal no debe usar todas las iteraciones."
   ]
  },
  {
   "cell_type": "code",
   "execution_count": null,
   "metadata": {},
   "outputs": [],
   "source": []
  },
  {
   "cell_type": "markdown",
   "metadata": {},
   "source": [
    "4- Usando las tres funciones base con los mismos $m$ obtenidos en el punto $2$, calcule $\\hat{t}$ usando gradiente descendente y responda. \n",
    "\n",
    "¿Cuantas iteraciones tomó para el calculo de $w$?. \n",
    "¿Qué tan cerca quedo del $w$ generado con mínimos cuadrados?\n",
    "\n",
    "Grafique los resultados obtenido realizando la comparación de t y $\\hat{t}$. Muestre el número de interaciones, M y el error. (1.2)"
   ]
  },
  {
   "cell_type": "code",
   "execution_count": null,
   "metadata": {},
   "outputs": [],
   "source": []
  },
  {
   "cell_type": "markdown",
   "metadata": {},
   "source": [
    "5- Ahora haga el mismo ejercicio del punto 4 pero con $\\phi$ normalizada. Compare las iteraciones, el error y $w$. Que puede intepretar de los resultados. (1.4)"
   ]
  },
  {
   "cell_type": "code",
   "execution_count": null,
   "metadata": {},
   "outputs": [],
   "source": []
  },
  {
   "cell_type": "code",
   "execution_count": null,
   "metadata": {},
   "outputs": [],
   "source": []
  }
 ],
 "metadata": {
  "kernelspec": {
   "display_name": "Python 3",
   "language": "python",
   "name": "python3"
  },
  "language_info": {
   "codemirror_mode": {
    "name": "ipython",
    "version": 3
   },
   "file_extension": ".py",
   "mimetype": "text/x-python",
   "name": "python",
   "nbconvert_exporter": "python",
   "pygments_lexer": "ipython3",
   "version": "3.8.3"
  }
 },
 "nbformat": 4,
 "nbformat_minor": 2
}
