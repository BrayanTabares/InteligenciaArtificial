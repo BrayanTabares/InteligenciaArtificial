{
 "cells": [
  {
   "cell_type": "markdown",
   "metadata": {},
   "source": [
    "# Taller gradiente descendente"
   ]
  },
  {
   "cell_type": "markdown",
   "metadata": {},
   "source": [
    "## Nombre Michelle Y Brayan"
   ]
  },
  {
   "cell_type": "code",
   "execution_count": 1,
   "metadata": {},
   "outputs": [],
   "source": [
    "# dependecias para todo el taller. No se deben agregar más dependecias\n",
    "import numpy as np\n",
    "import math\n",
    "from matplotlib import pyplot as plt"
   ]
  },
  {
   "cell_type": "markdown",
   "metadata": {},
   "source": [
    "Carga de datos base:"
   ]
  },
  {
   "cell_type": "code",
   "execution_count": 2,
   "metadata": {},
   "outputs": [],
   "source": [
    "tam = 300\n",
    "x = np.linspace(0,5,tam)\n",
    "t = np.sin(2*np.pi*x)+np.random.normal(0,0.4,tam)"
   ]
  },
  {
   "cell_type": "markdown",
   "metadata": {},
   "source": [
    "1- Muestre la señal $t$ en un gráfico."
   ]
  },
  {
   "cell_type": "code",
   "execution_count": 3,
   "metadata": {},
   "outputs": [
    {
     "data": {
      "image/png": "[encoded data removed]",
      "text/plain": [
       "<Figure size 432x288 with 1 Axes>"
      ]
     },
     "metadata": {
      "needs_background": "light"
     },
     "output_type": "display_data"
    }
   ],
   "source": [
    "plt.plot(t)\n",
    "plt.show()\n",
    "plt.ion()"
   ]
  },
  {
   "cell_type": "markdown",
   "metadata": {},
   "source": [
    "2- Usando mínimos cuadrados desarrolle para cada una de las tres de funciones base una solución que se ajuste a la señal mostrada en el punto anterior. Defina los valores de m y s en cada uno de los tres casos. Realice un gráfico comparativo para cada $\\hat{t}$ vs t, y uno final de todas las $\\hat{t}$s vs t. Muestré los errores de cada $\\hat{t}$. Use subplot. ¿Que puede intepretar de los resultados? (1.2)"
   ]
  },
  {
   "cell_type": "code",
   "execution_count": 34,
   "metadata": {
    "scrolled": false
   },
   "outputs": [
    {
     "ename": "SyntaxError",
     "evalue": "EOL while scanning string literal (<ipython-input-34-8f457b61556f>, line 103)",
     "output_type": "error",
     "traceback": [
      "\u001b[0;36m  File \u001b[0;32m\"<ipython-input-34-8f457b61556f>\"\u001b[0;36m, line \u001b[0;32m103\u001b[0m\n\u001b[0;31m    phin = generarPhi(x,i, 'p)\u001b[0m\n\u001b[0m                              ^\u001b[0m\n\u001b[0;31mSyntaxError\u001b[0m\u001b[0;31m:\u001b[0m EOL while scanning string literal\n"
     ]
    }
   ],
   "source": [
    "def generarPhi(x, m, f):\n",
    "    s1 = 0.007\n",
    "    s2 = 0.01\n",
    "    val = np.arange(m)\n",
    "    u=np.linspace(0,1,m)\n",
    "    phi= np.arange(0,len(t),1)\n",
    "    phi2= np.linspace(0,1,len(t))\n",
    "    phiF = np.ones((len(x), len(val)),dtype=np.float64)\n",
    "    for i in range(0, len(x), 1):\n",
    "        for j in range(1, len(val), 1):\n",
    "            if(f == 'p'):\n",
    "                phiF[i,j] = phi2[i]**val[j]\n",
    "            if(f == 'e'):\n",
    "                phiF[i, j] = math.exp(-(((phi2[i]-u[j])**2)/(2*s1**2)))\n",
    "            if(f == 's'):\n",
    "                a=(phi2[i]-u[j])/s2\n",
    "                phiF[i, j] = 1/(1+math.exp(-a))\n",
    "     \n",
    "    return phiF\n",
    "\n",
    "def CalcularW(phi):\n",
    "    t0=np.array(t)\n",
    "    t1=t0.reshape(len(t0),1)\n",
    "    return np.linalg.inv(phi.T@phi)@phi.T@t1\n",
    "\n",
    "def errorCuadraticoMedio(phi,w):\n",
    "    t0=np.array(t)\n",
    "    t1=t0.reshape(len(t0),1)\n",
    "    return np.mean(((phi@w)-t1)**2)\n",
    "\n",
    "#Valores de M\n",
    "\n",
    "m1=70\n",
    "m2=20\n",
    "m3=10\n",
    "\n",
    "#Graficación------------------------------------------------\n",
    "\n",
    "names=np.array(['M = '+str(m1),'M = '+str(m2),'M = '+str(m3)])\n",
    "plt.ion()\n",
    "\n",
    "#Calcular Predicción\n",
    "phiPoli = generarPhi(x, m1, 'p')\n",
    "phiExpo = generarPhi(x, m2, 'e')\n",
    "phiSigmo = generarPhi(x, m3, 's')\n",
    "\n",
    "wPoli = CalcularW(phiPoli)\n",
    "wExpo = CalcularW(phiExpo)\n",
    "wSigmo = CalcularW(phiSigmo)\n",
    "\n",
    "\n",
    "tpPoli=phiPoli@wPoli\n",
    "tpExpo=phiExpo@wExpo\n",
    "tpSigmo=phiSigmo@wSigmo\n",
    "\n",
    "\n",
    "\n",
    "t0=np.arange(1,len(t)+1,1)\n",
    "t1=t0.reshape(len(t0),1)\n",
    "\n",
    "plt.subplots(2,2,figsize=(15,10))\n",
    "\n",
    "\n",
    "plt.subplot(2,2,1)\n",
    "plt.plot(t1,t,'r',t1,tpPoli,'b')\n",
    "plt.legend(['Original',names[0]])\n",
    "plt.xlabel(\"x\")\n",
    "plt.ylabel(\"t\")\n",
    "plt.title(\"Representacion de \"+names[0]+\" Polinomial, ECM: \"+\"{:.3f}\".format(errorCuadraticoMedio(phiPoli,wPoli)))\n",
    "\n",
    "plt.subplot(2,2,2)\n",
    "plt.plot(t1,t,'r',t1,tpExpo,'#17C620')\n",
    "plt.legend(['Original',names[1]])\n",
    "plt.xlabel(\"x\")\n",
    "plt.ylabel(\"t\")\n",
    "plt.title(\"Representacion de \"+names[1]+\" Exponencial, ECM: \"+\"{:.3f}\".format(errorCuadraticoMedio(phiExpo,wExpo)))\n",
    "\n",
    "\n",
    "plt.subplot(2,2,3)\n",
    "plt.plot(t1,t,'r',t1,tpSigmo,'k')\n",
    "plt.legend(['Original',names[2]])\n",
    "plt.xlabel(\"x\")\n",
    "plt.ylabel(\"t\")\n",
    "plt.title(\"Representacion de \"+names[2]+\" Sigmoidal, ECM: \"+\"{:.3f}\".format(errorCuadraticoMedio(phiSigmo,wSigmo)))\n",
    "\n",
    "\n",
    "plt.subplot(2,2,4)\n",
    "plt.plot(t1,t,'r',t1,tpSigmo,'k',t1,tpExpo,'#17C620',t1,tpPoli,'b')\n",
    "plt.legend(['Original',names[0]+\" Polinomial\",names[1]+\" Exponencial\",names[2]+\" Sigmoidal\"])\n",
    "plt.xlabel(\"M\")\n",
    "plt.ylabel(\"error\")\n",
    "plt.title(\"Representacion de todas las funciones base\")\n",
    "\n",
    "plt.show()\n",
    "\n",
    "me1=0\n",
    "me3=80\n",
    "errorR=np.arange(me1,me3+1)\n",
    "errorM=np.full(me3+1-me1,1,dtype=np.float64)\n",
    "errorM1=np.full(me3+1-me1,1,dtype=np.float64)\n",
    "errorM2=np.full(me3+1-me1,1,dtype=np.float64)\n",
    "for i in range(me1,me3+1):\n",
    "    phin = generarPhi(x,i, 'p')\n",
    "    phinE = generarPhi(x,i, 'e')\n",
    "    phinS = generarPhi(x,i, 's')\n",
    "    wn = CalcularW(phin)\n",
    "    errorM[i-m1]= errorCuadraticoMedio(phin,wn)\n",
    "    errorM1[i-m1]= errorCuadraticoMedio(phinE,wn)\n",
    "    errorM2[i-m1]= errorCuadraticoMedio(phinS,wn)\n",
    "plt.plot(errorR,errorM,'b',errorR,errorM1,'#17C620',errorR,errorM2,'k')\n",
    "plt.legend(['Error Cuadrático Medio'])\n",
    "plt.xlabel(\"M\")\n",
    "plt.ylabel(\"error\")\n",
    "plt.title(\"Representacion de Error Cuadrático Medio\")\n",
    "plt.show()"
   ]
  },
  {
   "cell_type": "markdown",
   "metadata": {},
   "source": [
    "3- Ahora programe una función para generar $w$ y $\\hat{t}$ usando el algoritmo de gradiente descendente. Defina el caso de parada usando un error esperado y cantidad máxima de iteraciones (debe manejar ambos casos). Recuerde que la ecuación para calcular $w$ esta dada por:\n",
    "\n",
    "$w_{j} = w_{j} - \\alpha \\Delta$\n",
    "\n",
    "Retorne $w$, $\\hat{t}$, el número de iteraciones y el error obtenido. (1.2). Una solución ideal no debe usar todas las iteraciones."
   ]
  },
  {
   "cell_type": "code",
   "execution_count": 5,
   "metadata": {},
   "outputs": [],
   "source": [
    "def calcularWGradiente(w,phi, errEsperado, aprendizaje):\n",
    "    t1=np.array(t)\n",
    "    tP=phi@w\n",
    "    print(phi.shape)\n",
    "    errActual=errorCuadraticoMedio(phi,w)    \n",
    "    i=0\n",
    "    while errEsperado<errActual and  i<100:\n",
    "        for j in range(m):\n",
    "            w[j]=w[j]-aprendizaje*calcularDelta(tP[:,0],t1,phi[:,j])        \n",
    "        tP=phi@w\n",
    "        errActual=errorCuadraticoMedio(phi,w)\n",
    "        print(errActual)\n",
    "        i+=1   \n",
    "    return i,w\n",
    "\n",
    "    \n",
    "def calcularDelta(tP,t1,phi):\n",
    "    return np.mean((tP-t1)*phi)"
   ]
  },
  {
   "cell_type": "markdown",
   "metadata": {},
   "source": [
    "4- Usando las tres funciones base con los mismos $m$ obtenidos en el punto $2$, calcule $\\hat{t}$ usando gradiente descendente y responda. \n",
    "\n",
    "¿Cuantas iteraciones tomó para el calculo de $w$?. \n",
    "¿Qué tan cerca quedo del $w$ generado con mínimos cuadrados?\n",
    "\n",
    "Grafique los resultados obtenido realizando la comparación de t y $\\hat{t}$. Muestre el número de interaciones, M y el error. (1.2)"
   ]
  },
  {
   "cell_type": "code",
   "execution_count": null,
   "metadata": {},
   "outputs": [],
   "source": []
  },
  {
   "cell_type": "markdown",
   "metadata": {},
   "source": [
    "5- Ahora haga el mismo ejercicio del punto 4 pero con $\\phi$ normalizada. Compare las iteraciones, el error y $w$. Que puede intepretar de los resultados. (1.4)"
   ]
  },
  {
   "cell_type": "code",
   "execution_count": null,
   "metadata": {},
   "outputs": [],
   "source": []
  },
  {
   "cell_type": "code",
   "execution_count": null,
   "metadata": {},
   "outputs": [],
   "source": []
  }
 ],
 "metadata": {
  "kernelspec": {
   "display_name": "Python 3",
   "language": "python",
   "name": "python3"
  },
  "language_info": {
   "codemirror_mode": {
    "name": "ipython",
    "version": 3
   },
   "file_extension": ".py",
   "mimetype": "text/x-python",
   "name": "python",
   "nbconvert_exporter": "python",
   "pygments_lexer": "ipython3",
   "version": "3.8.3"
  }
 },
 "nbformat": 4,
 "nbformat_minor": 2
}
