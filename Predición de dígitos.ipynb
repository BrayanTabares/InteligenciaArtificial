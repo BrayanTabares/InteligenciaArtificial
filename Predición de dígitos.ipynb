{
 "cells": [
  {
   "cell_type": "code",
   "execution_count": 1,
   "metadata": {},
   "outputs": [],
   "source": [
    "from sklearn.neural_network import MLPClassifier\n",
    "from sklearn import datasets\n",
    "import pandas as pd\n",
    "import numpy as np\n",
    "from sklearn.preprocessing import Normalizer\n",
    "from sklearn.model_selection import train_test_split\n",
    "from sklearn.neural_network import MLPClassifier\n",
    "from sklearn.metrics import accuracy_score\n",
    "from sklearn.model_selection import cross_val_score"
   ]
  },
  {
   "cell_type": "markdown",
   "metadata": {},
   "source": [
    "## nombres: Brayan Tabares - Michelle Quintero"
   ]
  },
  {
   "cell_type": "code",
   "execution_count": 2,
   "metadata": {},
   "outputs": [],
   "source": [
    "# carga de dataset\n",
    "digitos = datasets.load_digits()\n",
    "X = digitos['data']\n",
    "t = digitos['target']"
   ]
  },
  {
   "cell_type": "markdown",
   "metadata": {},
   "source": [
    "1- Analice la información que se encuentra en $X$ y $t$. ¿Qué debemos realizar, una regresión o una clasificación? Cómo se podría ajustar a una clasificación o a una regresión, argumente."
   ]
  },
  {
   "cell_type": "code",
   "execution_count": 9,
   "metadata": {},
   "outputs": [
    {
     "name": "stdout",
     "output_type": "stream",
     "text": [
      "Conjunto de Datos\n",
      "[[ 0.  0.  5. ...  0.  0.  0.]\n",
      " [ 0.  0.  0. ... 10.  0.  0.]\n",
      " [ 0.  0.  0. ... 16.  9.  0.]\n",
      " ...\n",
      " [ 0.  0.  1. ...  6.  0.  0.]\n",
      " [ 0.  0.  2. ... 12.  0.  0.]\n",
      " [ 0.  0. 10. ... 12.  1.  0.]] (1797, 64)\n",
      "\n",
      "T objetivo\n",
      "[0 1 2 ... 8 9 8] (1797,)\n"
     ]
    }
   ],
   "source": [
    "print(\"Conjunto de Datos\")\n",
    "print(X,X.shape)\n",
    "\n",
    "print(\"\\nT objetivo\")\n",
    "print(t,t.shape)"
   ]
  },
  {
   "cell_type": "markdown",
   "metadata": {},
   "source": [
    "2- Desarrolle una función que simule el $holdout$ $method$. El porcentaje de $X$ que se va a usar para entrenar debe estar parametrizado. No debe usar niguna dependecia a parte de numpy."
   ]
  },
  {
   "cell_type": "code",
   "execution_count": 8,
   "metadata": {},
   "outputs": [
    {
     "name": "stdout",
     "output_type": "stream",
     "text": [
      "[[ 0.  0.  5. ...  0.  0.  0.]\n",
      " [ 0.  0.  0. ... 10.  0.  0.]\n",
      " [ 0.  0.  0. ... 16.  9.  0.]\n",
      " ...\n",
      " [ 0.  0.  0. ...  3.  0.  0.]\n",
      " [ 0.  0.  5. ... 11.  3.  0.]\n",
      " [ 0.  0.  3. ...  0.  0.  0.]] (1257, 64)\n",
      "\n",
      " [0 1 2 ... 4 3 1] (1257,)\n",
      "\n",
      " [[ 0.  0.  0. ...  0.  0.  0.]\n",
      " [ 0.  0.  5. ...  3.  0.  0.]\n",
      " [ 0.  7. 16. ...  0.  0.  0.]\n",
      " ...\n",
      " [ 0.  0.  1. ...  6.  0.  0.]\n",
      " [ 0.  0.  2. ... 12.  0.  0.]\n",
      " [ 0.  0. 10. ... 12.  1.  0.]] (540, 64)\n",
      "\n",
      " [4 0 5 3 6 9 6 1 7 5 4 4 7 2 8 2 2 5 7 9 5 4 8 8 4 9 0 8 9 8 0 1 2 3 4 5 6\n",
      " 7 8 9 0 1 2 3 4 5 6 7 8 9 0 1 2 3 4 5 6 7 8 9 0 9 5 5 6 5 0 9 8 9 8 4 1 7\n",
      " 7 3 5 1 0 0 2 2 7 8 2 0 1 2 6 3 3 7 3 3 4 6 6 6 4 9 1 5 0 9 5 2 8 2 0 0 1\n",
      " 7 6 3 2 1 7 4 6 3 1 3 9 1 7 6 8 4 3 1 4 0 5 3 6 9 6 1 7 5 4 4 7 2 8 2 2 5\n",
      " 7 9 5 4 8 8 4 9 0 8 0 1 2 3 4 5 6 7 8 9 0 1 2 3 4 5 6 7 8 9 0 1 2 3 4 5 6\n",
      " 7 8 9 0 9 5 5 6 5 0 9 8 9 8 4 1 7 7 3 5 1 0 0 2 2 7 8 2 0 1 2 6 3 3 7 3 3\n",
      " 4 6 6 6 4 9 1 5 0 9 5 2 8 2 0 0 1 7 6 3 2 1 7 4 6 3 1 3 9 1 7 6 8 4 3 1 4\n",
      " 0 5 3 6 9 6 1 7 5 4 4 7 2 8 2 2 5 7 9 5 4 8 8 4 9 0 8 9 8 0 1 2 3 4 5 6 7\n",
      " 8 9 0 1 2 3 4 5 6 9 0 1 2 3 4 5 6 7 8 9 0 9 5 5 6 5 0 9 8 9 8 4 1 7 7 3 5\n",
      " 1 0 0 2 2 7 8 2 0 1 2 6 3 3 7 3 3 4 6 6 6 4 9 1 5 0 9 5 2 8 0 1 7 6 3 2 1\n",
      " 7 4 6 3 1 3 9 1 7 6 8 4 3 1 4 0 5 3 6 9 6 1 7 5 4 4 7 2 2 5 7 9 5 4 4 9 0\n",
      " 8 9 8 0 1 2 3 4 5 6 7 8 9 0 1 2 3 4 5 6 7 8 9 0 1 2 3 4 5 6 7 8 9 0 9 5 5\n",
      " 6 5 0 9 8 9 8 4 1 7 7 3 5 1 0 0 2 2 7 8 2 0 1 2 6 3 3 7 3 3 4 6 6 6 4 9 1\n",
      " 5 0 9 5 2 8 2 0 0 1 7 6 3 2 1 7 4 6 3 1 3 9 1 7 6 8 4 3 1 4 0 5 3 6 9 6 1\n",
      " 7 5 4 4 7 2 8 2 2 5 7 9 5 4 8 8 4 9 0 8 9 8] (540,)\n"
     ]
    }
   ],
   "source": [
    "def holdoutMethod (X,t,porcentajeE=0.7,dependencia=False):\n",
    "    if porcentajeE>1 or porcentajeE<0:\n",
    "            porcentajeE=1\n",
    "    if dependencia:   \n",
    "        return train_test_split(X, t, stratify=t, random_state=1, train_size=porcentajeE) \n",
    "    else:\n",
    "        size=int(len(X)*porcentajeE)\n",
    "        return X[:size,:], X[size:,:], t[:size],t[size:]\n",
    "\n",
    "    \n",
    "X_train, X_test, y_train, y_test = holdoutMethod(X,t,dependencia=False)\n",
    "print(X_train,X_train.shape)\n",
    "print(\"\\n\",y_train,y_train.shape)\n",
    "print(\"\\n\",X_test,X_test.shape)\n",
    "print(\"\\n\",y_test,y_test.shape)"
   ]
  },
  {
   "cell_type": "markdown",
   "metadata": {},
   "source": [
    "3- Usando la función desarrollada en el punto 2, divida los datos con el 70% para entrenar y el 30% para prueba. Use la dependencia de RNA para clasificar, entrenar y predecir usando tanto el conjunto de entrenamiento como el de pruebas. Use como solver sgd y como función de activación la función logística.\n",
    "Usando accuracy_score determine la exactitud para t de entrenamiento y t de pruebas <a href=\"https://scikit-learn.org/stable/modules/generated/sklearn.metrics.accuracy_score.html\">Ver</a>.\n",
    "\n",
    "¿Qué resultados obtuvo, intérprete?"
   ]
  },
  {
   "cell_type": "code",
   "execution_count": 91,
   "metadata": {},
   "outputs": [
    {
     "name": "stdout",
     "output_type": "stream",
     "text": [
      "\n",
      "Predecir Entrenamiento\n",
      "[0 1 2 ... 4 3 1] (1257,)\n",
      "\n",
      "Exactitud Entrenamiento\n",
      "0.9984089101034208\n",
      "\n",
      "Predecir Pruebas\n",
      "[4 0 5 3 6 9 6 6 9 5 4 4 7 2 8 2 2 5 7 9 5 4 8 8 4 9 0 8 9 8 0 9 2 3 4 5 6\n",
      " 7 8 9 0 1 2 3 6 5 6 7 8 9 0 1 2 3 4 5 6 7 8 9 0 9 5 5 6 5 0 9 8 9 8 4 1 7\n",
      " 7 3 5 1 0 0 2 2 7 8 2 0 1 2 6 3 3 7 3 3 4 6 6 6 4 9 1 5 0 9 6 2 8 2 0 0 1\n",
      " 7 6 3 2 1 7 4 6 3 1 3 9 1 7 6 8 4 3 1 4 0 5 3 6 9 6 1 7 5 4 4 7 2 8 2 2 5\n",
      " 7 9 5 4 8 8 4 9 0 8 0 1 2 3 4 5 6 7 8 9 0 1 2 3 4 5 6 7 8 9 0 1 2 3 4 5 6\n",
      " 7 8 9 0 9 5 5 6 5 0 9 8 9 8 4 9 7 7 3 5 9 0 0 2 2 7 8 2 0 9 2 6 3 3 7 3 3\n",
      " 4 6 6 6 4 9 9 5 0 9 5 2 9 2 0 0 9 7 6 3 2 3 7 4 6 3 1 3 9 1 7 6 8 4 3 9 4\n",
      " 0 5 3 6 9 6 9 7 5 4 4 7 2 5 2 2 5 7 9 5 4 8 8 4 9 0 8 9 8 0 1 2 3 4 5 1 8\n",
      " 1 9 0 1 2 3 4 5 6 9 0 1 2 3 4 5 6 7 5 9 4 9 5 5 6 5 0 9 4 5 8 4 1 7 7 3 5\n",
      " 1 6 0 2 2 4 8 2 0 1 2 6 8 7 7 7 3 4 6 6 6 8 9 1 5 0 9 5 2 8 0 1 7 6 3 2 1\n",
      " 7 1 6 3 1 3 9 1 7 6 8 4 3 1 4 0 5 3 6 9 6 1 7 5 4 4 7 2 2 5 7 8 5 9 4 5 0\n",
      " 8 9 8 0 1 2 3 4 5 6 7 8 9 0 1 2 8 4 5 6 7 8 9 0 1 2 5 4 5 6 7 8 9 0 9 5 5\n",
      " 6 5 0 9 8 9 8 4 1 7 7 3 5 1 0 0 2 2 7 8 2 0 1 2 6 8 2 7 5 8 4 6 6 6 4 9 1\n",
      " 5 0 9 5 2 8 2 0 0 1 7 6 3 2 1 7 4 6 3 1 3 9 1 7 6 8 4 5 1 4 0 5 3 6 9 6 1\n",
      " 7 5 4 4 7 2 8 2 2 5 7 9 5 4 8 1 4 9 0 8 9 8] (540,)\n",
      "\n",
      "Exactitud Pruebas\n",
      "0.9259259259259259\n"
     ]
    }
   ],
   "source": [
    "#Acotar conjunto de datos\n",
    "X_train, X_test, y_train, y_test = holdoutMethod(X,t,porcentajeE=0.7,dependencia=False)\n",
    "\n",
    "#Clasificar\n",
    "clf = MLPClassifier(max_iter=1000, solver='sgd', activation='logistic').fit(X_train, y_train)\n",
    "\n",
    "#Entrenamiento\n",
    "prediccionE=clf.predict(X_train)\n",
    "reporteE=accuracy_score(y_train,prediccionE)\n",
    "\n",
    "#Pruebas\n",
    "prediccionP=clf.predict(X_test)\n",
    "reporteP=accuracy_score(y_test,prediccionP)\n",
    "\n",
    "#Impresión ----------------------------------------------------------------------\n",
    "print(\"\\nPredecir Entrenamiento\")\n",
    "print(prediccionE,prediccionE.shape)\n",
    "\n",
    "print(\"\\nExactitud Entrenamiento\")\n",
    "print(reporteE)\n",
    "\n",
    "print(\"\\nPredecir Pruebas\")\n",
    "print(prediccionP,prediccionP.shape)\n",
    "\n",
    "print(\"\\nExactitud Pruebas\")\n",
    "print(reporteP)\n"
   ]
  },
  {
   "cell_type": "markdown",
   "metadata": {},
   "source": [
    "4- Siga los siguientes pasos:\n",
    "* Use Normalizer para normalizar el conjunto de entrenamiento <a href=\"https://scikit-learn.org/stable/modules/generated/sklearn.preprocessing.Normalizer.html\">Ver</a>.\n",
    "* Use train_test_split para armar el conjunto de entrenamiento y el conjunto de pruebas. Use 70% para entrenar y 30% para pruebas <a href=\"https://scikit-learn.org/stable/modules/cross_validation.html#\">Ver</a>.\n",
    "* Use una red neuronal con parámetros que desee, para generar un buen modelo <a href=\"https://scikit-learn.org/stable/modules/generated/sklearn.neural_network.MLPClassifier.html\">Ver</a>.\n",
    "* Prediga los resultados para t de entrenamiento y t de pruebas. Usando accuracy_score determine la exactitud para t de entrenamiento y t de pruebas <a href=\"https://scikit-learn.org/stable/modules/generated/sklearn.metrics.accuracy_score.html\">Ver</a>. \n",
    "* ¿Qué resultados obtuvo? Interprete."
   ]
  },
  {
   "cell_type": "code",
   "execution_count": 96,
   "metadata": {},
   "outputs": [
    {
     "name": "stdout",
     "output_type": "stream",
     "text": [
      "\n",
      "Predecir Entrenamiento\n",
      "[5 4 3 ... 9 6 4] (1257,)\n",
      "\n",
      "Exactitud Entrenamiento\n",
      "0.9992044550517104\n",
      "\n",
      "Predecir Pruebas\n",
      "[1 3 7 0 4 8 6 7 1 8 9 6 4 9 3 7 9 8 5 3 5 4 2 8 2 0 7 2 9 7 2 9 6 7 1 6 9\n",
      " 3 1 9 5 5 5 7 5 4 6 9 5 6 8 4 4 9 6 1 2 1 3 6 7 7 5 2 3 2 9 4 8 5 0 9 9 1\n",
      " 6 4 4 8 1 3 3 9 5 6 0 5 8 6 7 5 7 8 4 3 3 9 7 4 5 4 7 4 3 1 8 9 6 2 1 2 8\n",
      " 5 6 9 5 5 0 0 4 0 6 7 5 1 7 3 0 4 9 0 3 5 0 9 3 7 9 4 2 4 2 6 9 5 9 3 1 2\n",
      " 3 2 6 3 6 2 0 7 4 4 8 8 4 3 8 3 8 0 1 7 5 6 7 5 2 6 0 7 1 0 7 2 5 2 0 0 7\n",
      " 1 8 0 6 3 0 0 7 5 5 3 9 0 0 5 3 8 9 5 3 9 9 8 6 1 9 0 2 6 5 6 0 9 7 8 0 8\n",
      " 3 0 6 9 5 3 3 9 4 4 3 9 3 8 2 2 7 8 8 6 1 0 1 2 8 4 1 9 6 5 9 6 8 4 9 0 7\n",
      " 5 3 1 1 6 9 7 5 6 2 7 4 4 4 6 9 2 4 0 7 5 7 8 1 6 9 2 7 5 2 5 0 2 4 7 1 1\n",
      " 7 2 2 6 3 3 1 8 1 2 3 5 8 1 1 2 2 1 8 6 3 8 8 6 8 0 2 9 4 6 1 8 3 8 4 4 1\n",
      " 4 1 1 4 5 7 6 1 9 7 1 8 1 2 5 5 6 9 3 8 5 1 4 5 3 3 8 6 5 4 5 6 8 9 0 3 0\n",
      " 0 2 2 3 5 6 0 8 0 9 1 7 4 6 6 3 6 1 1 4 3 6 0 8 1 0 0 8 6 0 1 9 9 2 9 4 3\n",
      " 2 8 8 7 7 5 0 4 3 4 7 2 0 0 8 1 5 2 7 4 9 0 9 1 1 3 7 0 4 2 4 4 8 7 6 5 1\n",
      " 5 9 7 0 4 2 3 7 4 1 0 9 1 0 2 7 1 5 7 4 5 5 7 8 3 8 4 1 0 0 9 1 9 2 4 4 2\n",
      " 3 8 3 0 4 2 3 5 9 1 3 1 3 5 1 1 8 3 1 6 6 0 2 9 3 1 9 4 2 2 5 6 4 7 4 8 2\n",
      " 5 6 3 8 7 7 1 2 6 4 7 2 6 1 2 0 9 5 4 7 5 6] (540,)\n",
      "\n",
      "Exactitud Pruebas\n",
      "0.9703703703703703\n"
     ]
    }
   ],
   "source": [
    "#Acotar conjunto de datos\n",
    "X_train, X_test, y_train, y_test = holdoutMethod(X,t,porcentajeE=0.7,dependencia=True)\n",
    "\n",
    "#Normalizar\n",
    "norma=Normalizer()\n",
    "norma.fit(X_train)\n",
    "X_train=norma.transform(X_train)\n",
    "X_test=norma.transform(X_test)\n",
    "\n",
    "#Clasificar\n",
    "clf = MLPClassifier(random_state=0,max_iter=2000, solver='adam', activation='logistic').fit(X_train, y_train)\n",
    "\n",
    "#Entrenamiento\n",
    "prediccionE=clf.predict(X_train)\n",
    "reporteE=accuracy_score(y_train,prediccionE)\n",
    "\n",
    "#Pruebas\n",
    "prediccionP=clf.predict(X_test)\n",
    "reporteP=accuracy_score(y_test,prediccionP)\n",
    "\n",
    "#Impresión ----------------------------------------------------------------------\n",
    "print(\"\\nPredecir Entrenamiento\")\n",
    "print(prediccionE,prediccionE.shape)\n",
    "\n",
    "print(\"\\nExactitud Entrenamiento\")\n",
    "print(reporteE)\n",
    "\n",
    "print(\"\\nPredecir Pruebas\")\n",
    "print(prediccionP,prediccionP.shape)\n",
    "\n",
    "print(\"\\nExactitud Pruebas\")\n",
    "print(reporteP)"
   ]
  },
  {
   "cell_type": "markdown",
   "metadata": {},
   "source": [
    "5- Ahora usando cross_val_score con un cv = 7 (<a href=\"https://scikit-learn.org/stable/modules/cross_validation.html#computing-cross-validated-metrics\">Ver</a>), ajuste un buen modelo ¿Qué resultados obtuvo? Interprete."
   ]
  },
  {
   "cell_type": "code",
   "execution_count": null,
   "metadata": {
    "scrolled": false
   },
   "outputs": [],
   "source": [
    "\n"
   ]
  },
  {
   "cell_type": "code",
   "execution_count": 93,
   "metadata": {},
   "outputs": [
    {
     "name": "stdout",
     "output_type": "stream",
     "text": [
      "[0.94163424 0.9766537  0.92607004 0.94552529 0.97276265 0.96484375\n",
      " 0.90234375]\n"
     ]
    }
   ],
   "source": [
    "scores = cross_val_score(clf, X, t, cv=7)\n",
    "print(scores)"
   ]
  },
  {
   "cell_type": "code",
   "execution_count": 95,
   "metadata": {},
   "outputs": [
    {
     "name": "stdout",
     "output_type": "stream",
     "text": [
      "[0.92217899 0.92996109 0.88326848 0.95330739 0.95719844 0.93359375\n",
      " 0.89453125]\n"
     ]
    }
   ],
   "source": [
    "scores = cross_val_score(clf, X, t, cv=7)\n",
    "print(scores)"
   ]
  },
  {
   "cell_type": "code",
   "execution_count": null,
   "metadata": {},
   "outputs": [],
   "source": []
  }
 ],
 "metadata": {
  "kernelspec": {
   "display_name": "Python 3",
   "language": "python",
   "name": "python3"
  },
  "language_info": {
   "codemirror_mode": {
    "name": "ipython",
    "version": 3
   },
   "file_extension": ".py",
   "mimetype": "text/x-python",
   "name": "python",
   "nbconvert_exporter": "python",
   "pygments_lexer": "ipython3",
   "version": "3.8.3"
  }
 },
 "nbformat": 4,
 "nbformat_minor": 4
}
