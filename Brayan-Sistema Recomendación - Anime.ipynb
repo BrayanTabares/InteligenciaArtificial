{
 "cells": [
  {
   "cell_type": "markdown",
   "metadata": {},
   "source": [
    "# Sistema de recomendación de anime"
   ]
  },
  {
   "cell_type": "code",
   "execution_count": 9,
   "metadata": {},
   "outputs": [],
   "source": [
    "import numpy as np\n",
    "from matplotlib import pyplot as plt\n",
    "import pandas as pd \n",
    "from sklearn.neighbors import NearestNeighbors\n",
    "\n",
    "#Barra de progreso\n",
    "import time\n",
    "from tqdm import tqdm"
   ]
  },
  {
   "cell_type": "markdown",
   "metadata": {},
   "source": [
    "El objetivo es aplicar todo lo que hemos aprendido hasta el momento, especialmente sobre gradiente descendiente. Para esto desarrollaremos un sistema de recomendación usando factorización de matrices.\n",
    "\n",
    "En esta entrega se darán todos elementos necesarios para desarrollar un sistema de recomendación de amines, el objetivo es que usted entienda como funciona y desarrolle una solución.\n",
    "\n",
    "Si desea conocer mas sobre el dataset que usaremos puede revisar acá: https://www.kaggle.com/CooperUnion/anime-recommendations-database"
   ]
  },
  {
   "cell_type": "markdown",
   "metadata": {},
   "source": [
    "1- Cargue las bases de datos de calificaciones, usuarios y animes. Puede usar para este objetivo la biblioteca pandas. Genere el conjunto de entrenamiento usando los usuarios cómo filas y los animes cómo columnas. Tenga en cuenta que para el algoritmo es necesario que los -1 sean cero, sin embargo, para la recomendación si debe tener en cuenta dichos valores."
   ]
  },
  {
   "cell_type": "code",
   "execution_count": 10,
   "metadata": {
    "scrolled": true
   },
   "outputs": [
    {
     "name": "stderr",
     "output_type": "stream",
     "text": [
      "100%|████████████████████████████████████████████████████████████████████| 7813737/7813737 [00:10<00:00, 710785.63it/s]\n",
      "100%|█████████████████████████████████████████████████████████████████████| 7813737/7813737 [01:28<00:00, 87864.61it/s]"
     ]
    },
    {
     "name": "stdout",
     "output_type": "stream",
     "text": [
      "[[ 0  0  0 ...  0  0  0]\n",
      " [ 0  0  0 ...  0  0  0]\n",
      " [ 0  0  0 ...  0  0  0]\n",
      " ...\n",
      " [ 0  0  0 ...  0  0  0]\n",
      " [10 10 10 ...  0  0  8]\n",
      " [ 0  0  0 ...  0  0  0]]\n",
      "(73516, 4850)\n"
     ]
    },
    {
     "name": "stderr",
     "output_type": "stream",
     "text": [
      "\n"
     ]
    }
   ],
   "source": [
    "#Obtener Listado .CSV\n",
    "def obtenerListas():\n",
    "    df = pd.read_csv('anime.csv', delimiter=',', parse_dates=[6], header=0,index_col=False, squeeze=False)\n",
    "    uf = pd.read_csv('rating.csv', delimiter=',', parse_dates=[2], header=0,index_col=False, squeeze=False)\n",
    "    return np.array(df),np.array(uf)\n",
    "\n",
    "d,u=obtenerListas()\n",
    "\n",
    "#Obtener la cantidad total de animes y usuarios\n",
    "cantAnimes=len(d)\n",
    "cantUsers=int(u[-1,0])\n",
    "\n",
    "animes=np.zeros(len(d))\n",
    "aux=0\n",
    "for i in tqdm(range(len(u))): \n",
    "    if u[i,1] <= cantAnimes:\n",
    "        if int(u[i,2])==10 and not(int(u[i,1]) in animes):\n",
    "            animes[aux] = int(u[i,1])\n",
    "            aux=aux+1\n",
    "animes=animes[:aux]\n",
    "animes.sort()\n",
    "animes=animes.astype(int)\n",
    "\n",
    "\n",
    "R = np.zeros((cantUsers,aux),dtype=np.int8)\n",
    "for i in tqdm(range(len(u))): \n",
    "    if u[i,1] <= cantAnimes:\n",
    "        if int(u[i,1]) in animes and int(u[i,2])>0:\n",
    "            R[u[i,0]-1,np.where(animes==int(u[i,1]))[0]] = int(u[i,2])\n",
    "        \n",
    "print(R)\n",
    "print(R.shape)"
   ]
  },
  {
   "cell_type": "markdown",
   "metadata": {},
   "source": [
    "2- Agregue la función donde se ejecuta el algoritmo de factorización de matrices. Puede basarse en el algoritmo compartido en las dispositivas. No debe de gastar todas las interaciones. "
   ]
  },
  {
   "cell_type": "code",
   "execution_count": null,
   "metadata": {},
   "outputs": [],
   "source": [
    "def matrix_factorization(R, P, Q, K, steps=100, alpha=0.0002, beta=0.02):\n",
    "    Q = Q.T\n",
    "    for step in tqdm(range(steps)):\n",
    "        for i in range(len(R)):\n",
    "            for j in range(len(R[i])):\n",
    "                if R[i][j] > 0:\n",
    "                    eij = R[i][j] - numpy.dot(P[i,:],Q[:,j])\n",
    "                    for k in xrange(K):\n",
    "                        P[i][k] = P[i][k] + alpha * (2 * eij * Q[k][j] - beta * P[i][k])\n",
    "                        Q[k][j] = Q[k][j] + alpha * (2 * eij * P[i][k] - beta * Q[k][j])\n",
    "        eR = numpy.dot(P,Q)\n",
    "        e = 0\n",
    "        for i in range(len(R)):\n",
    "            for j in range(len(R[i])):\n",
    "                if R[i][j] > 0:\n",
    "                    e = e + pow(R[i][j] - numpy.dot(P[i,:],Q[:,j]), 2)\n",
    "                    for k in xrange(K):\n",
    "                        e = e + (beta/2) * (pow(P[i][k],2) + pow(Q[k][j],2))\n",
    "        if e < 0.5:\n",
    "            break\n",
    "    return P, Q.T"
   ]
  },
  {
   "cell_type": "markdown",
   "metadata": {},
   "source": [
    "3- Programe una función para generar $\\hat{R}$. Recuerde que para generar $\\hat{R}$ debe realizar los siguiente pasos:\n",
    "\n",
    "    - Generar R usando el algoritmo de vecinos más cercanos.\n",
    "    - Defina K.\n",
    "    - Defina P y Q.\n",
    "    - Generar R prima.\n"
   ]
  },
  {
   "cell_type": "code",
   "execution_count": 11,
   "metadata": {
    "scrolled": true
   },
   "outputs": [],
   "source": [
    "def vecinoMasCercano(calcular,k,matriz):\n",
    "    if calcular:\n",
    "        nbrs = NearestNeighbors(n_neighbors=k, algorithm='auto',n_jobs=-1).fit(matriz)\n",
    "        distances, indices = nbrs.kneighbors(R)\n",
    "        return distances,indices\n",
    "    else:\n",
    "        distances=np.loadtxt('distances.txt')\n",
    "        indices=np.loadtxt('indices.txt')\n",
    "        return distances,indices\n",
    "\n"
   ]
  },
  {
   "cell_type": "markdown",
   "metadata": {},
   "source": [
    "4- Realice las siguiente recomendaciones (animes que no ha visto con calificación 10):\n",
    "\n",
    "    1- Usuario de id 51, películas.\n",
    "    2- Usuario de id 510, animes con menos de 31 episodios.\n",
    "    3- Usuario de id 17000, animes con rankins mayores o iguales a 9.\n",
    "    4- Usuario de id 27005, animes de comedia y aventura.\n",
    "    5- Usuario de id 37502, TV.\n",
    "    6- Usuario de id 57502, películas y OVAS.\n",
    "    7- Usuario de id 67501.\n",
    "\n",
    "Cada recomendación debe tener como respuesta, número de iteraciones, número de recomendaciones y nombre de los animes,"
   ]
  },
  {
   "cell_type": "code",
   "execution_count": null,
   "metadata": {},
   "outputs": [],
   "source": [
    "def recomendar(kP,idKP,nbrs,R,d,recomRating,idUser,genre,tipo,episodios,rating,members):\n",
    "    user=np.empty((1,len(kP[0])))\n",
    "    pos=0\n",
    "    for i in idKP:\n",
    "        if idUser in i:\n",
    "            user=kP[pos]\n",
    "            break\n",
    "        pos=pos+1\n",
    "    pos=0    \n",
    "    recomendacion=np.empty((len(d),len(d[0])))  \n",
    "    for i in tqdm(range(len(d))):\n",
    "        if user[i]>=recomRating:\n",
    "            boolean=True\n",
    "            if genre!=None and not(genre in d[i,2]):\n",
    "                boolean=False\n",
    "            if tipo!=None and not(tipo == d[i,3]):\n",
    "                boolean=False  \n",
    "            if episodios!=None and not(episodios == d[i,4]):\n",
    "                boolean=False\n",
    "            if rating!=None and not(rating <= d[i,5]):\n",
    "                boolean=False  \n",
    "            if members!=None and not(members <= d[i,5]):\n",
    "                boolean=False \n",
    "            if boolean:\n",
    "                recomendacion[pos]=d[i]\n",
    "                pos=pos+1\n",
    "    return recomendacion[:pos,:]"
   ]
  },
  {
   "cell_type": "code",
   "execution_count": 49,
   "metadata": {
    "scrolled": true
   },
   "outputs": [
    {
     "name": "stdout",
     "output_type": "stream",
     "text": [
      "0\n"
     ]
    }
   ],
   "source": [
    "pos=0\n",
    "a=42248\n",
    "b=7473\n",
    "for i in range(len(R[0])-1):\n",
    "    if R[a,i] != R[b,i]:\n",
    "            print('User1',R[a,i],'User2',R[b,i])\n",
    "            pos=pos+1\n",
    "print(pos)"
   ]
  },
  {
   "cell_type": "code",
   "execution_count": 45,
   "metadata": {},
   "outputs": [
    {
     "name": "stderr",
     "output_type": "stream",
     "text": [
      "100%|██████████████████████████████████████████████████████████████████████████| 73516/73516 [00:12<00:00, 5731.96it/s]\n"
     ]
    },
    {
     "name": "stdout",
     "output_type": "stream",
     "text": [
      "(66385, 4850)\n",
      "[[ 0  0  0 ...  0  0  0]\n",
      " [ 0  0  0 ...  0  0  0]\n",
      " [ 0  0  0 ...  0  0  0]\n",
      " ...\n",
      " [ 0  0  0 ...  0  0  0]\n",
      " [10 10 10 ...  0  0  8]\n",
      " [ 0  0  0 ...  0  0  0]]\n",
      "(73516, 2)\n",
      "[[0.0000e+00 0.0000e+00]\n",
      " [1.0000e+00 1.0000e+00]\n",
      " [1.0000e+00 2.2760e+03]\n",
      " ...\n",
      " [6.6382e+04 7.3513e+04]\n",
      " [6.6383e+04 7.3514e+04]\n",
      " [6.6384e+04 7.3515e+04]]\n"
     ]
    }
   ],
   "source": [
    "def optimizarMatriz(R,indices,distances):\n",
    "    userIguales=np.array([]).reshape(0,2)\n",
    "    cont=0\n",
    "    pos=-1\n",
    "    Raux=np.zeros((len(R),len(R[0])),dtype=np.int8)\n",
    "    for i in tqdm(range(len(indices))):\n",
    "        for j in range(len(indices[0])):\n",
    "            if int(distances[i,j]) == 0:\n",
    "                index=int(indices[i,j])\n",
    "                aux1=np.where(userIguales[:,1]==i)\n",
    "                if i != index:\n",
    "                    aux2=np.where(userIguales[:,1]==index)\n",
    "                    if len(aux1[0]) == 0:\n",
    "                        if len(aux2[0]) == 0:\n",
    "                            pos=pos+1\n",
    "                            userIguales=np.insert(userIguales, userIguales.shape[0], np.array([pos,i]), 0)\n",
    "                            userIguales=np.insert(userIguales, userIguales.shape[0], np.array([pos,index]), 0)\n",
    "                            Raux[cont]=R[i]\n",
    "                            cont=cont+1\n",
    "                        else:\n",
    "                            userIguales=np.insert(userIguales,aux2[0][-1]+1, np.array([userIguales[aux2[0][-1],0],i]), 0)\n",
    "                    else:\n",
    "                        if len(aux2[0]) == 0:\n",
    "                            userIguales=np.insert(userIguales,aux1[0][-1]+1, np.array([userIguales[aux1[0][-1],0],index]), 0)                  \n",
    "                else:\n",
    "                    if len(aux1[0]) == 0:\n",
    "                        pos=pos+1\n",
    "                        userIguales=np.insert(userIguales, userIguales.shape[0], np.array([pos,i]), 0)\n",
    "                        Raux[cont]=R[i]\n",
    "                        cont=cont+1\n",
    "    return Raux[:cont,:], userIguales\n",
    "\n",
    "distances,indices=vecinoMasCercano(False,None,None)\n",
    "Raux, userIguales = optimizarMatriz(R,indices,distances)\n",
    "print(Raux.shape)\n",
    "print(Raux)\n",
    "print(userIguales.shape)\n",
    "print(userIguales)\n",
    "np.savetxt('userIguales3.txt',userIguales)"
   ]
  },
  {
   "cell_type": "code",
   "execution_count": 10,
   "metadata": {},
   "outputs": [],
   "source": [
    "import csv\n",
    "\n",
    "with open('userIguales.csv', 'w', newline='\\n', encoding='utf-8') as csvfile:\n",
    "    writer = csv.writer(csvfile,delimiter=' ',\n",
    "                            quotechar='|', quoting=csv.QUOTE_MINIMAL)\n",
    "    writer.writerows(userIguales)"
   ]
  },
  {
   "cell_type": "code",
   "execution_count": null,
   "metadata": {},
   "outputs": [],
   "source": []
  }
 ],
 "metadata": {
  "kernelspec": {
   "display_name": "Python 3",
   "language": "python",
   "name": "python3"
  },
  "language_info": {
   "codemirror_mode": {
    "name": "ipython",
    "version": 3
   },
   "file_extension": ".py",
   "mimetype": "text/x-python",
   "name": "python",
   "nbconvert_exporter": "python",
   "pygments_lexer": "ipython3",
   "version": "3.8.3"
  }
 },
 "nbformat": 4,
 "nbformat_minor": 2
}
